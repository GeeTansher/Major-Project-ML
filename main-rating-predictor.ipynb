{
 "cells": [
  {
   "cell_type": "code",
   "execution_count": 1,
   "metadata": {},
   "outputs": [],
   "source": [
    "import numpy as np\n",
    "import pandas as pd\n",
    "from sklearn.preprocessing import LabelEncoder"
   ]
  },
  {
   "cell_type": "code",
   "execution_count": 2,
   "metadata": {},
   "outputs": [],
   "source": [
    "from tensorflow.keras.models import load_model\n",
    " \n",
    "# load model\n",
    "model = load_model('Models\\WholeDatasetModel.h5')"
   ]
  },
  {
   "cell_type": "code",
   "execution_count": 3,
   "metadata": {},
   "outputs": [],
   "source": [
    "df = pd.read_csv('Dataset\\Dataset.csv')"
   ]
  },
  {
   "cell_type": "code",
   "execution_count": 4,
   "metadata": {},
   "outputs": [],
   "source": [
    "top_products = ['B014BP7JB2',\n",
    " 'B014CZFIFK',\n",
    " 'B014882XIG',\n",
    " 'B019P1X5XI',\n",
    " 'B015OHQNL8',\n",
    " 'B014L79H8I',\n",
    " 'B016AQNDM4',\n",
    " 'B01ID3ZS5W',\n",
    " 'B01G6MBEBY',\n",
    " 'B014WBIGKI']"
   ]
  },
  {
   "cell_type": "code",
   "execution_count": 5,
   "metadata": {},
   "outputs": [],
   "source": [
    "item_encoder = LabelEncoder()\n",
    "df['items'] = item_encoder.fit_transform(df['product_id'])\n",
    "items = item_encoder.fit_transform(top_products)"
   ]
  },
  {
   "cell_type": "code",
   "execution_count": 6,
   "metadata": {},
   "outputs": [
    {
     "name": "stdout",
     "output_type": "stream",
     "text": [
      "1/1 [==============================] - 0s 98ms/step\n",
      "['B016AQNDM4', 'B015OHQNL8', 'B019P1X5XI']\n"
     ]
    }
   ],
   "source": [
    "# Example user and item data\n",
    "target_user_id = 39548589\n",
    "\n",
    "\n",
    "user_encoder = LabelEncoder()\n",
    "user_encoder.fit([target_user_id])\n",
    "item_mapping = {item: index for index, item in enumerate(items)}\n",
    "inverse_item_mapping = {index: item for item, index in item_mapping.items()}\n",
    "\n",
    "encoded_user_id = user_encoder.transform([target_user_id])[0]\n",
    "\n",
    "encoded_item_ids = np.array([item_mapping[item] for item in items])\n",
    "\n",
    "num_users = 1\n",
    "num_items = len(items)\n",
    "model_predictions = np.random.rand(num_users, num_items)\n",
    "user_ids = np.full(num_items, encoded_user_id)\n",
    "predictions = model.predict([user_ids, encoded_item_ids]).flatten()\n",
    "predictions = model_predictions[encoded_user_id]\n",
    "\n",
    "N = 3 # Number of recommendations you want to provide\n",
    "recommended_item_indices = predictions.argsort()[::-1][:N]\n",
    "decoded_items = item_encoder.inverse_transform(recommended_item_indices)\n",
    "print(decoded_items.tolist()[:5])"
   ]
  }
 ],
 "metadata": {
  "kernelspec": {
   "display_name": "Python 3",
   "language": "python",
   "name": "python3"
  },
  "language_info": {
   "codemirror_mode": {
    "name": "ipython",
    "version": 3
   },
   "file_extension": ".py",
   "mimetype": "text/x-python",
   "name": "python",
   "nbconvert_exporter": "python",
   "pygments_lexer": "ipython3",
   "version": "3.11.3"
  },
  "orig_nbformat": 4
 },
 "nbformat": 4,
 "nbformat_minor": 2
}
